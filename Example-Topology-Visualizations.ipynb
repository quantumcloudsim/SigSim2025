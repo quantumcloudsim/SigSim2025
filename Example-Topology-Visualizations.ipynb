{
 "cells": [
  {
   "cell_type": "code",
   "execution_count": null,
   "id": "da958be2",
   "metadata": {
    "scrolled": true
   },
   "outputs": [],
   "source": [
    "from QCloud import *\n",
    "from utility_functions import *\n",
    "\n",
    "env = simpy.Environment()"
   ]
  },
  {
   "cell_type": "code",
   "execution_count": null,
   "id": "6ccebd2e",
   "metadata": {},
   "outputs": [],
   "source": [
    "ibm_strasbourg = IBM_Strasbourg(env, 'ibm_strasbourg1')\n",
    "display_graph(ibm_strasbourg, figsize = (10, 8.5), node_size= 500, font_size=10)"
   ]
  },
  {
   "cell_type": "code",
   "execution_count": null,
   "id": "e5ed8672",
   "metadata": {},
   "outputs": [],
   "source": [
    "amazon_rigetti = Amazon_rigetti(env)\n",
    "display_graph(amazon_rigetti, figsize = (10, 10))"
   ]
  },
  {
   "cell_type": "code",
   "execution_count": null,
   "id": "f3f882e9",
   "metadata": {
    "scrolled": true
   },
   "outputs": [],
   "source": [
    "print(amazon_rigetti.__doc__)"
   ]
  },
  {
   "cell_type": "code",
   "execution_count": null,
   "id": "92b22e49",
   "metadata": {
    "scrolled": true
   },
   "outputs": [],
   "source": [
    "google_sycamore = Google_sycamore(env)\n",
    "display_graph(google_sycamore, figsize = (6, 3))"
   ]
  },
  {
   "cell_type": "code",
   "execution_count": null,
   "id": "a4a68155",
   "metadata": {},
   "outputs": [],
   "source": [
    "help(google_sycamore.__doc__)"
   ]
  },
  {
   "cell_type": "code",
   "execution_count": null,
   "id": "cbd83439",
   "metadata": {},
   "outputs": [],
   "source": [
    "ibm_sherbrooke = IBM_Sherbrooke(env, 'ibm_sherbrooke')\n",
    "display_graph(ibm_sherbrooke, figsize = (6,5), node_size= 100, font_size=2, with_labels=False)"
   ]
  },
  {
   "cell_type": "code",
   "execution_count": null,
   "id": "b0240964",
   "metadata": {
    "scrolled": true
   },
   "outputs": [],
   "source": [
    "ibm_fez = IBM_Fez(env, '')\n",
    "display_graph(ibm_fez, figsize = (12,10))"
   ]
  },
  {
   "cell_type": "code",
   "execution_count": null,
   "id": "dcc43372",
   "metadata": {},
   "outputs": [],
   "source": [
    "google_sycamore_53 = Google_sycamore_53(env)\n",
    "display_graph(google_sycamore_53, figsize = (9, 7))"
   ]
  },
  {
   "cell_type": "code",
   "execution_count": null,
   "id": "ac496432-81de-4cdc-bf07-55e80bca8b0f",
   "metadata": {},
   "outputs": [],
   "source": [
    "ibm_tokyo = IBM_rochester(env, '')\n",
    "display_graph(ibm_tokyo, figsize = (10, 10))"
   ]
  }
 ],
 "metadata": {
  "kernelspec": {
   "display_name": "Python 3 (ipykernel)",
   "language": "python",
   "name": "python3"
  },
  "language_info": {
   "codemirror_mode": {
    "name": "ipython",
    "version": 3
   },
   "file_extension": ".py",
   "mimetype": "text/x-python",
   "name": "python",
   "nbconvert_exporter": "python",
   "pygments_lexer": "ipython3",
   "version": "3.10.9"
  }
 },
 "nbformat": 4,
 "nbformat_minor": 5
}
