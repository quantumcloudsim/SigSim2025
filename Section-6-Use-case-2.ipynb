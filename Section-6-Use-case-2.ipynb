{
 "cells": [
  {
   "cell_type": "markdown",
   "id": "a44e951c-5524-43d4-97a0-4e0896f49203",
   "metadata": {},
   "source": [
    "## Section 6 - Evaluation Part 2\n",
    "The following script presents the second use case from Section 6 – Evaluation part 2 in the manuscript where a batch of jobs data is dispatched from a .CSV file to varying number of ibm_strasbourg QPUs. "
   ]
  },
  {
   "cell_type": "code",
   "execution_count": 2,
   "id": "7fd4c3f3-3a0d-4e82-bf4d-0db6f72e1af2",
   "metadata": {},
   "outputs": [
    {
     "name": "stdout",
     "output_type": "stream",
     "text": [
      "finish one loop for num devices: 1\n",
      "finish one loop for num devices: 2\n",
      "finish one loop for num devices: 3\n",
      "finish one loop for num devices: 4\n",
      "finish one loop for num devices: 5\n",
      "finish one loop for num devices: 6\n",
      "finish one loop for num devices: 7\n"
     ]
    }
   ],
   "source": [
    "### deploying jobs from CSV file. \n",
    "\n",
    "from QCloud import *\n",
    "from collections import defaultdict\n",
    "import numpy as np\n",
    "import matplotlib.pyplot as plt\n",
    "\n",
    "# Create quantum devices\n",
    "ibm_strasbourg = IBM_Strasbourg(env=None, name=\"1\", printlog = False)\n",
    "ibm_strasbourg_2 = IBM_Strasbourg(env=None, name=\"2\", printlog = False)\n",
    "ibm_strasbourg_3 = IBM_Strasbourg(env=None, name=\"3\", printlog = False)\n",
    "ibm_strasbourg_4 = IBM_Strasbourg(env=None, name=\"4\", printlog = False)\n",
    "ibm_strasbourg_5 = IBM_Strasbourg(env=None, name=\"5\", printlog = False)\n",
    "ibm_strasbourg_6 = IBM_Strasbourg(env=None, name=\"6\", printlog = False)\n",
    "ibm_strasbourg_7 = IBM_Strasbourg(env=None, name=\"7\", printlog = False)\n",
    "\n",
    "devices = [ibm_strasbourg, ibm_strasbourg_2, ibm_strasbourg_3, ibm_strasbourg_4, ibm_strasbourg_5, ibm_strasbourg_6, ibm_strasbourg_7]\n",
    "# devices = [ibm_strasbourg, ibm_strasbourg_2]\n",
    "# Initialize and run the simulation using jobs from a CSV file\n",
    "\n",
    "sim_hours = defaultdict(list)\n",
    "exe_time = defaultdict(list)\n",
    "\n",
    "for num_device in range(1,8): \n",
    "    for _ in range(10): \n",
    "        start_time = time.time()        \n",
    "        qcloudsimenv = QCloudSimEnv(\n",
    "            devices=devices[0:num_device],\n",
    "            broker_class=ParallelBroker,\n",
    "            job_feed_method=\"dispatcher\",\n",
    "            # file_path=\"jobs_data.csv\"\n",
    "            file_path=\"synth_job_batches/jobs_data.csv\"\n",
    "        )\n",
    "        qcloudsimenv.run()\n",
    "        \n",
    "        end_time = time.time() # End the timer\n",
    "        elapsed_time = end_time - start_time # Calculate elapsed time\n",
    "        # print(qcloudsimenv.now)\n",
    "        sim_hours[num_device].append(qcloudsimenv.now)        \n",
    "        # print(f\"Elapsed time: {elapsed_time:.5f} seconds\")\n",
    "        exe_time[num_device].append(round(elapsed_time,5))\n",
    "    print(f\"finish one loop for num devices: {num_device}\")    \n",
    "# Access job records after the simulation\n",
    "# job_records = qcloudsimenv.job_records_manager.get_job_records()\n",
    "# for job_id, events in job_records.items():\n",
    "#     print(f\"Job ID: {job_id}, Events: {events}\")\n"
   ]
  },
  {
   "cell_type": "markdown",
   "id": "e3fa56d7-6408-47c2-91f7-22ace50d777c",
   "metadata": {},
   "source": [
    "### Calculating Average sim-hour and Average execution time"
   ]
  },
  {
   "cell_type": "code",
   "execution_count": 4,
   "id": "64ca2305-c28c-4dde-b31c-089909c4100c",
   "metadata": {
    "tags": []
   },
   "outputs": [],
   "source": [
    "avg_sim_hours = []\n",
    "std_sim_hours = []\n",
    "avg_exe_time = []\n",
    "std_exe_time = []\n",
    "\n",
    "for i in range(1, 8):\n",
    "    # Compute the average (mean)\n",
    "    avg_sim_hours.append(round(np.mean(sim_hours[i])/60, 4))\n",
    "    avg_exe_time.append(np.mean(exe_time[i]))\n",
    "    # Compute the standard deviation\n",
    "    std_sim_hours.append(round(np.std(sim_hours[i])/60, 4))\n",
    "    std_exe_time.append(np.std(exe_time[i]))\n"
   ]
  },
  {
   "cell_type": "code",
   "execution_count": 7,
   "id": "4a8295cf-94c8-41c3-b847-bcfacd385c95",
   "metadata": {},
   "outputs": [
    {
     "data": {
      "image/png": "[encoded data removed]",
      "text/plain": [
       "<Figure size 400x240 with 1 Axes>"
      ]
     },
     "metadata": {},
     "output_type": "display_data"
    }
   ],
   "source": [
    "FONTSIZE = 10\n",
    "# Data\n",
    "num_machines = [1, 2, 3, 4, 5, 6, 7]\n",
    "avg_sim_hours = avg_sim_hours\n",
    "std_sim_hours = std_sim_hours\n",
    "\n",
    "# Create the plot\n",
    "plt.figure(figsize=(4, 2.4))\n",
    "plt.errorbar(num_machines, avg_sim_hours, yerr=std_sim_hours, fmt='.-', \n",
    "             capsize=5, capthick=1.5, markersize=6, linewidth=2, label=\"Simulation Time\")\n",
    "\n",
    "# Labels and title\n",
    "plt.xlabel(\"Number of Machines\", fontsize=FONTSIZE)\n",
    "plt.ylabel(\"Simulation Hours\", fontsize=FONTSIZE)\n",
    "\n",
    "plt.savefig(\"simulation_time_vs_machines.png\")\n",
    "# Show the plot\n",
    "plt.show()"
   ]
  },
  {
   "cell_type": "markdown",
   "id": "aa146711-57ca-4a6e-8cbd-2ddaaab57de0",
   "metadata": {},
   "source": [
    "### Calculating total execution time"
   ]
  },
  {
   "cell_type": "code",
   "execution_count": null,
   "id": "fe680f3a-bc59-4558-be4a-2e4ad22aa823",
   "metadata": {
    "tags": []
   },
   "outputs": [],
   "source": [
    "total_mins = 0\n",
    "for t in avg_exe_time: \n",
    "    total_mins +=(t*10/60)\n",
    "print('Total Execution Time: ', total_minsa)"
   ]
  }
 ],
 "metadata": {
  "kernelspec": {
   "display_name": "Python 3 (ipykernel)",
   "language": "python",
   "name": "python3"
  },
  "language_info": {
   "codemirror_mode": {
    "name": "ipython",
    "version": 3
   },
   "file_extension": ".py",
   "mimetype": "text/x-python",
   "name": "python",
   "nbconvert_exporter": "python",
   "pygments_lexer": "ipython3",
   "version": "3.10.9"
  }
 },
 "nbformat": 4,
 "nbformat_minor": 5
}
