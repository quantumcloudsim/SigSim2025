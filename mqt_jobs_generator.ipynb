{
 "cells": [
  {
   "cell_type": "code",
   "execution_count": null,
   "id": "21d139bb",
   "metadata": {},
   "outputs": [],
   "source": [
    "# Already installed\n",
    "# !pip install mqt.bench"
   ]
  },
  {
   "cell_type": "code",
   "execution_count": null,
   "id": "ee462919",
   "metadata": {},
   "outputs": [],
   "source": [
    "import json\n",
    "from mqt.bench import get_benchmark"
   ]
  },
  {
   "cell_type": "code",
   "execution_count": null,
   "id": "0711400b-f5d2-4d32-940c-76dbda5fdbe4",
   "metadata": {},
   "outputs": [],
   "source": [
    "import random\n",
    "def generate_qcloudsim_jobs(num_jobs=5, noise_models=None):\n",
    "    \"\"\"\n",
    "    Generate QCloudSim-compatible jobs using circuits from MQT Bench.\n",
    "    \n",
    "    Parameters:\n",
    "    - num_jobs (int): Number of jobs to generate.\n",
    "    - noise_models (list): List of noise model names to randomly assign.\n",
    "    \n",
    "    Returns:\n",
    "    - jobs_data (dict): A dictionary representing jobs in QCloudSim format.\n",
    "    \"\"\"\n",
    "    jobs_data = {\"jobs\": []}\n",
    "    noise_models = noise_models or [\"ibmq_montreal\", \"rigetti_aspen\", \"ionq_arline\"]\n",
    "    \n",
    "    # List of available benchmark names in MQT Bench (modify as needed)\n",
    "    benchmark_names = ['ae', 'dj', 'grover-noancilla', 'grover-v-chain', 'ghz', 'graphstate', 'portfolioqaoa', 'portfoliovqe', 'qaoa', 'qft', 'qftentangled', 'qnn', 'qpeexact', 'qpeinexact', 'qwalk-noancilla', 'qwalk-v-chain', 'random', 'realamprandom', 'su2random', 'twolocalrandom', 'vqe', 'wstate', 'shor', 'pricingcall', 'pricingput', 'groundstate', 'routing', 'tsp']\n",
    "    \n",
    "    device_names = ['ibm_washington', 'ibm_montreal', 'ionq_harmony', 'ionq_aria1', 'oqc_lucy', 'rigetti_aspen_m3', 'quantinuum_h2', 'iqm_adonis', 'iqm_apollo']\n",
    "    \n",
    "    try:\n",
    "        for job_id in range(1, num_jobs + 1):\n",
    "            # Select a benchmark name based on job ID (cyclic selection)\n",
    "            benchmark_name = 'dj'\n",
    "\n",
    "            # Get a benchmark circuit from MQT Bench\n",
    "            circuit = get_benchmark(\n",
    "                benchmark_name=benchmark_name,\n",
    "                level=\"mapped\",           # Use \"mapped\" level for realistic benchmarks\n",
    "                circuit_size=random.randint(3, 5),  # Circuit size increases with job_id\n",
    "                device_name=\"ibm_washington\"  # Example device name\n",
    "            )\n",
    "\n",
    "            # Extract circuit details\n",
    "            num_qubits = circuit.num_qubits\n",
    "            depth = circuit.depth()\n",
    "            gates = [{\"gate\": gate.name, \"qubits\": [q._index for q in gate.qubits]} for gate in circuit.data]\n",
    "\n",
    "            # Create job entry\n",
    "            job = {\n",
    "                \"job_id\": job_id,\n",
    "                \"benchmark_name\": benchmark_name,\n",
    "                \"num_qubits\": num_qubits,\n",
    "                \"depth\": depth,\n",
    "                \"gates\": gates,\n",
    "                \"expected_exec_time\": round(depth * 0.1, 2),  # Arbitrary example exec time\n",
    "                \"priority\": 1 if job_id % 2 == 0 else 2,\n",
    "                \"noise_model\": \"\",\n",
    "                \"arrival_time\": job_id * 5,  # Staggered arrival times\n",
    "                \"num_shots\": 500\n",
    "            }\n",
    "            jobs_data[\"jobs\"].append(job)\n",
    "\n",
    "    except Exception as e:\n",
    "        print(f\"Error occurred while processing job_id {job_id}: {e}\")\n",
    "    \n",
    "    return jobs_data\n"
   ]
  },
  {
   "cell_type": "code",
   "execution_count": null,
   "id": "314e4527",
   "metadata": {},
   "outputs": [],
   "source": [
    "import time\n",
    "\n",
    "start_time = time.time() # Start the timer\n",
    "# Generate sample data\n",
    "num_jobs = 200\n",
    "noise_models = [\"ibmq_montreal\", \"rigetti_aspen\", \"ionq_arline\"]\n",
    "qcloudsim_jobs = generate_qcloudsim_jobs(num_jobs, noise_models)\n",
    "\n",
    "# Save to JSON file\n",
    "with open(f\"synth_job_batches\\QCloudSimJobs_MQT_ibm-3-5.json\", \"w\") as f:\n",
    "    json.dump(qcloudsim_jobs, f, indent=4)\n",
    "\n",
    "\n",
    "print(f\"Generated {num_jobs} QCloudSim jobs and saved to QCloudSimJobs_MQT_ibm-3-5.json\")\n",
    "\n",
    "end_time = time.time() # End the timer\n",
    "elapsed_time = end_time - start_time # Calculate elapsed time\n",
    "\n",
    "print(f\"Elapsed time: {elapsed_time:.5f} seconds\")"
   ]
  }
 ],
 "metadata": {
  "kernelspec": {
   "display_name": "Python (qcloudsim-env)",
   "language": "python",
   "name": "qcloudsim-env"
  },
  "language_info": {
   "codemirror_mode": {
    "name": "ipython",
    "version": 3
   },
   "file_extension": ".py",
   "mimetype": "text/x-python",
   "name": "python",
   "nbconvert_exporter": "python",
   "pygments_lexer": "ipython3",
   "version": "3.10.9"
  }
 },
 "nbformat": 4,
 "nbformat_minor": 5
}
