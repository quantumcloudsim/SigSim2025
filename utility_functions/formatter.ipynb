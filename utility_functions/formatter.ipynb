{
 "cells": [
  {
   "cell_type": "code",
   "execution_count": 2,
   "id": "1c196e5f",
   "metadata": {},
   "outputs": [],
   "source": [
    "import json"
   ]
  },
  {
   "cell_type": "code",
   "execution_count": 3,
   "id": "02d1c8f8",
   "metadata": {},
   "outputs": [],
   "source": [
    "def convert_to_json_structure(pos, filename):\n",
    "    # Convert the data structure into the desired format\n",
    "    output = {\"pos\": {str(k): v for k, v in pos.items()}}\n",
    "    with open(filename, 'w') as json_file:\n",
    "        json.dump(output, json_file)\n",
    "    return output"
   ]
  },
  {
   "cell_type": "code",
   "execution_count": 12,
   "id": "cea0e8b8",
   "metadata": {},
   "outputs": [
    {
     "data": {
      "text/plain": [
       "{'pos': {'0': [0, 4],\n",
       "  '1': [2, 4],\n",
       "  '2': [4, 4],\n",
       "  '3': [6, 4],\n",
       "  '4': [8, 4],\n",
       "  '5': [1, 3],\n",
       "  '6': [3, 3],\n",
       "  '7': [5, 3],\n",
       "  '8': [7, 3],\n",
       "  '9': [0, 2],\n",
       "  '10': [2, 2],\n",
       "  '11': [4, 2],\n",
       "  '12': [6, 2],\n",
       "  '13': [8, 2],\n",
       "  '14': [1, 1],\n",
       "  '15': [3, 1],\n",
       "  '16': [5, 1],\n",
       "  '17': [7, 1],\n",
       "  '18': [0, 0],\n",
       "  '19': [2, 0],\n",
       "  '20': [4, 0],\n",
       "  '21': [6, 0],\n",
       "  '22': [8, 0]}}"
      ]
     },
     "execution_count": 12,
     "metadata": {},
     "output_type": "execute_result"
    }
   ],
   "source": [
    "# pos = {0: [0, 4], 1: [2, 4], 2: [4, 4], 3: [6, 4], 4: [8, 4], 5: [1, 3], 6: [3, 3], 7: [5, 3], 8: [7, 3], 9: [0, 2], 10: [2, 2], 11: [4, 2], 12: [6, 2], 13: [8, 2], 14: [1, 1], 15: [3, 1], 16: [5, 1], 17: [7, 1], 18: [0, 0], 19: [2, 0], 20: [4, 0], 21: [6, 0], 22: [8, 0]}\n",
    "# convert_to_json_structure(pos, 'test.json')"
   ]
  },
  {
   "cell_type": "code",
   "execution_count": null,
   "id": "32c13a1b",
   "metadata": {},
   "outputs": [],
   "source": []
  }
 ],
 "metadata": {
  "kernelspec": {
   "display_name": "Python 3 (ipykernel)",
   "language": "python",
   "name": "python3"
  },
  "language_info": {
   "codemirror_mode": {
    "name": "ipython",
    "version": 3
   },
   "file_extension": ".py",
   "mimetype": "text/x-python",
   "name": "python",
   "nbconvert_exporter": "python",
   "pygments_lexer": "ipython3",
   "version": "3.10.9"
  }
 },
 "nbformat": 4,
 "nbformat_minor": 5
}
