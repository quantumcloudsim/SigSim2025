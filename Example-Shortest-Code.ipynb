{
 "cells": [
  {
   "cell_type": "code",
   "execution_count": 1,
   "id": "8acf1d64-c0b1-4655-90ea-9ed8c8fffe63",
   "metadata": {},
   "outputs": [
    {
     "name": "stdout",
     "output_type": "stream",
     "text": [
      "12.90: ibm_kawasaki received job #1 requiring 10 qubits.\n",
      "12.90: Job #1 will take 97.3523 sim-mins on ibm_kawasaki.\n",
      "15.81: ibm_kawasaki received job #2 requiring 7 qubits.\n",
      "15.81: Job #2 will take 289.2730 sim-mins on ibm_kawasaki.\n",
      "25.12: ibm_kawasaki received job #3 requiring 9 qubits.\n",
      "25.12: Job #3 will take 54.3626 sim-mins on ibm_kawasaki.\n",
      "29.48: ibm_kawasaki received job #4 requiring 5 qubits.\n",
      "29.48: Job #4 will take 79.6793 sim-mins on ibm_kawasaki.\n",
      "40.96: ibm_kawasaki received job #5 requiring 5 qubits.\n",
      "40.96: Job #5 will take 401.4098 sim-mins on ibm_kawasaki.\n",
      "60.14: ibm_kawasaki received job #6 requiring 9 qubits.\n",
      "60.14: Job #6 will take 210.4144 sim-mins on ibm_kawasaki.\n",
      "60.63: ibm_kawasaki received job #7 requiring 20 qubits.\n",
      "60.63: Job #7 will take 394.2810 sim-mins on ibm_kawasaki.\n",
      "63.58: ibm_kawasaki received job #8 requiring 18 qubits.\n",
      "63.58: Job #8 will take 197.5730 sim-mins on ibm_kawasaki.\n",
      "67.91: ibm_kawasaki received job #9 requiring 8 qubits.\n",
      "67.91: Job #9 will take 367.8098 sim-mins on ibm_kawasaki.\n",
      "79.48: Job #3 completed on ibm_kawasaki.\n",
      "83.01: ibm_kawasaki received job #10 requiring 19 qubits.\n",
      "83.01: Job #10 will take 41.4649 sim-mins on ibm_kawasaki.\n",
      "87.09: ibm_kawasaki received job #11 requiring 8 qubits.\n",
      "87.09: Job #11 will take 366.5546 sim-mins on ibm_kawasaki.\n",
      "88.72: ibm_kawasaki received job #12 requiring 13 qubits.\n",
      "88.72: Job #12 will take 357.9615 sim-mins on ibm_kawasaki.\n"
     ]
    }
   ],
   "source": [
    "from QCloud import *\n",
    "\n",
    "ibm_kawasaki = IBM_Kawasaki(env=None, name=\"ibm_kawasaki\", printlog = True)\n",
    "qcloudsimenv = QCloudSimEnv(devices=[ibm_kawasaki],\n",
    "                    broker_class=ParallelBroker,\n",
    "                    job_feed_method=\"generator\",\n",
    "                    job_generation_model=lambda: random.expovariate(lambd=0.1))\n",
    "qcloudsimenv.run(until=100)"
   ]
  },
  {
   "cell_type": "code",
   "execution_count": null,
   "id": "dafab846-d778-4426-a3cd-0b399e324540",
   "metadata": {},
   "outputs": [],
   "source": []
  }
 ],
 "metadata": {
  "kernelspec": {
   "display_name": "Python 3 (ipykernel)",
   "language": "python",
   "name": "python3"
  },
  "language_info": {
   "codemirror_mode": {
    "name": "ipython",
    "version": 3
   },
   "file_extension": ".py",
   "mimetype": "text/x-python",
   "name": "python",
   "nbconvert_exporter": "python",
   "pygments_lexer": "ipython3",
   "version": "3.10.9"
  }
 },
 "nbformat": 4,
 "nbformat_minor": 5
}
