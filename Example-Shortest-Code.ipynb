{
 "cells": [
  {
   "cell_type": "code",
   "execution_count": null,
   "id": "8acf1d64-c0b1-4655-90ea-9ed8c8fffe63",
   "metadata": {},
   "outputs": [],
   "source": [
    "from QCloud import *\n",
    "\n",
    "ibm_kawasaki = IBM_Kawasaki(env=None, name=\"ibm_kawasaki\", printlog = True)\n",
    "qcloudsimenv = QCloudSimEnv(devices=[ibm_kawasaki],\n",
    "                    broker_class=ParallelBroker,\n",
    "                    job_feed_method=\"generator\",\n",
    "                    job_generation_model=lambda: random.expovariate(lambd=0.1))\n",
    "qcloudsimenv.run(until=100)"
   ]
  }
 ],
 "metadata": {
  "kernelspec": {
   "display_name": "Python 3 (ipykernel)",
   "language": "python",
   "name": "python3"
  },
  "language_info": {
   "codemirror_mode": {
    "name": "ipython",
    "version": 3
   },
   "file_extension": ".py",
   "mimetype": "text/x-python",
   "name": "python",
   "nbconvert_exporter": "python",
   "pygments_lexer": "ipython3",
   "version": "3.10.9"
  }
 },
 "nbformat": 4,
 "nbformat_minor": 5
}
