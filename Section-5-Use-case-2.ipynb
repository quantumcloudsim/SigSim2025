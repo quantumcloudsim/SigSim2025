{
 "cells": [
  {
   "cell_type": "markdown",
   "id": "a44e951c-5524-43d4-97a0-4e0896f49203",
   "metadata": {},
   "source": [
    "# Section 5 - Evaluation\n",
    "The following script presents the second use case from Section 5 – Evaluation in the manuscript."
   ]
  },
  {
   "cell_type": "code",
   "execution_count": 27,
   "id": "7fd4c3f3-3a0d-4e82-bf4d-0db6f72e1af2",
   "metadata": {},
   "outputs": [
    {
     "name": "stdout",
     "output_type": "stream",
     "text": [
      "finish one loop for num devices: 1\n",
      "finish one loop for num devices: 2\n",
      "finish one loop for num devices: 3\n",
      "finish one loop for num devices: 4\n",
      "finish one loop for num devices: 5\n",
      "finish one loop for num devices: 6\n",
      "finish one loop for num devices: 7\n"
     ]
    }
   ],
   "source": [
    "### deploying jobs from CSV file. \n",
    "\n",
    "from QCloud import *\n",
    "from collections import defaultdict\n",
    "\n",
    "# Create quantum devices\n",
    "ibm_strasbourg = IBM_Strasbourg(env=None, name=\"1\", printlog = False)\n",
    "ibm_strasbourg_2 = IBM_Strasbourg(env=None, name=\"2\", printlog = False)\n",
    "ibm_strasbourg_3 = IBM_Strasbourg(env=None, name=\"3\", printlog = False)\n",
    "ibm_strasbourg_4 = IBM_Strasbourg(env=None, name=\"4\", printlog = False)\n",
    "ibm_strasbourg_5 = IBM_Strasbourg(env=None, name=\"5\", printlog = False)\n",
    "ibm_strasbourg_6 = IBM_Strasbourg(env=None, name=\"6\", printlog = False)\n",
    "ibm_strasbourg_7 = IBM_Strasbourg(env=None, name=\"7\", printlog = False)\n",
    "\n",
    "devices = [ibm_strasbourg, ibm_strasbourg_2, ibm_strasbourg_3, ibm_strasbourg_4, ibm_strasbourg_5, ibm_strasbourg_6, ibm_strasbourg_7]\n",
    "# devices = [ibm_strasbourg, ibm_strasbourg_2]\n",
    "# Initialize and run the simulation using jobs from a CSV file\n",
    "\n",
    "sim_hours = defaultdict(list)\n",
    "exe_time = defaultdict(list)\n",
    "\n",
    "for num_device in range(1,8): \n",
    "    for _ in range(10): \n",
    "        start_time = time.time()        \n",
    "        qcloudsimenv = QCloudSimEnv(\n",
    "            devices=devices[0:num_device],\n",
    "            broker_class=ParallelBroker,\n",
    "            job_feed_method=\"dispatcher\",\n",
    "            # file_path=\"jobs_data.csv\"\n",
    "            file_path=\"jobs_data.csv\"\n",
    "        )\n",
    "        qcloudsimenv.run()\n",
    "        \n",
    "        end_time = time.time() # End the timer\n",
    "        elapsed_time = end_time - start_time # Calculate elapsed time\n",
    "        # print(qcloudsimenv.now)\n",
    "        sim_hours[num_device].append(qcloudsimenv.now)        \n",
    "        # print(f\"Elapsed time: {elapsed_time:.5f} seconds\")\n",
    "        exe_time[num_device].append(round(elapsed_time,5))\n",
    "    print(f\"finish one loop for num devices: {num_device}\")    \n",
    "# Access job records after the simulation\n",
    "# job_records = qcloudsimenv.job_records_manager.get_job_records()\n",
    "# for job_id, events in job_records.items():\n",
    "#     print(f\"Job ID: {job_id}, Events: {events}\")\n"
   ]
  },
  {
   "cell_type": "code",
   "execution_count": 25,
   "id": "291c31fb-750b-4ed1-8eab-21d19aa9eef3",
   "metadata": {},
   "outputs": [
    {
     "name": "stdout",
     "output_type": "stream",
     "text": [
      "defaultdict(<class 'list'>, {1: [97, 90.13257575757575, 93, 90.13257575757575, 90.13257575757575, 90.13257575757575, 90.13257575757575, 100, 106, 101], 2: [90.13257575757575, 100, 90.13257575757575, 118, 107, 97, 90.13257575757575, 90.13257575757575, 105, 112], 3: [99, 98, 101, 108, 120, 114, 108, 117, 101, 119], 4: [92, 108, 92, 108, 112, 117, 120, 90.13257575757575, 118, 119], 5: [99, 108, 108, 108, 111, 119, 119, 117, 90.13257575757575, 114], 6: [107, 110, 111, 119, 108, 117, 118, 97, 113, 116], 7: [103, 110, 110, 120, 120, 108, 114, 116, 112, 119]})\n",
      "defaultdict(<class 'list'>, {1: [0.00621, 0.0057, 0.00563, 0.00559, 0.0057, 0.00578, 0.00611, 0.00565, 0.00551, 0.00546], 2: [0.00579, 0.0054, 0.00542, 0.00539, 0.00544, 0.00539, 0.00539, 0.00532, 0.00539, 0.00535], 3: [0.00535, 0.00538, 0.00579, 0.00535, 0.00537, 0.00534, 0.00536, 0.00537, 0.00535, 0.00582], 4: [0.0055, 0.00568, 0.00564, 0.00578, 0.00541, 0.00558, 0.00569, 0.00574, 0.00543, 0.00545], 5: [0.00547, 0.0055, 0.00545, 0.00546, 0.00539, 0.00548, 0.00542, 0.00546, 0.00537, 0.00539], 6: [0.00562, 0.00538, 0.00543, 0.00539, 0.00537, 0.0054, 0.0054, 0.00543, 0.00537, 0.00541], 7: [0.00542, 0.00539, 0.00543, 0.00545, 0.00539, 0.00541, 0.00543, 0.00543, 0.00539, 0.00537]})\n"
     ]
    }
   ],
   "source": [
    "print(sim_hours)\n",
    "print(exe_time)"
   ]
  },
  {
   "cell_type": "code",
   "execution_count": 39,
   "id": "64ca2305-c28c-4dde-b31c-089909c4100c",
   "metadata": {},
   "outputs": [],
   "source": [
    "import numpy as np\n",
    "\n",
    "avg_sim_hours = []\n",
    "std_sim_hours = []\n",
    "avg_exe_time = []\n",
    "std_exe_time = []\n",
    "\n",
    "for i in range(1, 8):\n",
    "    # Compute the average (mean)\n",
    "    avg_sim_hours.append(round(np.mean(sim_hours[i])/60, 4))\n",
    "    avg_exe_time.append(np.mean(exe_time[i]))\n",
    "    # Compute the standard deviation\n",
    "    std_sim_hours.append(round(np.std(sim_hours[i])/60, 4))\n",
    "    std_exe_time.append(np.std(exe_time[i]))\n"
   ]
  },
  {
   "cell_type": "code",
   "execution_count": 40,
   "id": "35a33591-54ec-42a0-a37e-d52803de3486",
   "metadata": {},
   "outputs": [
    {
     "data": {
      "text/plain": [
       "[2909.2838, 1460.2643, 977.7006, 735.3644, 589.3783, 492.9101, 424.1131]"
      ]
     },
     "execution_count": 40,
     "metadata": {},
     "output_type": "execute_result"
    }
   ],
   "source": [
    "avg_sim_hours"
   ]
  },
  {
   "cell_type": "code",
   "execution_count": 41,
   "id": "aba49315-d590-414a-9081-b065984158f6",
   "metadata": {},
   "outputs": [
    {
     "data": {
      "text/plain": [
       "[2.1244, 4.7266, 3.8442, 3.1234, 3.0977, 2.8848, 4.1405]"
      ]
     },
     "execution_count": 41,
     "metadata": {},
     "output_type": "execute_result"
    }
   ],
   "source": [
    "std_sim_hours"
   ]
  },
  {
   "cell_type": "code",
   "execution_count": 50,
   "id": "c35f5859-0ee4-446e-b3f5-346f1ed84592",
   "metadata": {},
   "outputs": [
    {
     "name": "stdout",
     "output_type": "stream",
     "text": [
      "0.0007302140822425093\n",
      "0.0032368113087473276\n",
      "0.0039318785321395934\n",
      "0.004247418014796473\n",
      "0.0052558772523521825\n",
      "0.005852588534907278\n",
      "0.009762726027561988\n"
     ]
    }
   ],
   "source": [
    "for a, s in zip(avg_sim_hours, std_sim_hours):\n",
    "    print(s/a)"
   ]
  },
  {
   "cell_type": "code",
   "execution_count": 42,
   "id": "0c3a9cf5-0494-4fb0-85fd-2ea8ef833339",
   "metadata": {},
   "outputs": [
    {
     "data": {
      "text/plain": [
       "[59.286569,\n",
       " 59.755247999999995,\n",
       " 60.34939899999999,\n",
       " 60.161803,\n",
       " 60.181977,\n",
       " 59.555368,\n",
       " 61.002914999999994]"
      ]
     },
     "execution_count": 42,
     "metadata": {},
     "output_type": "execute_result"
    }
   ],
   "source": [
    "avg_exe_time"
   ]
  },
  {
   "cell_type": "code",
   "execution_count": 48,
   "id": "fe680f3a-bc59-4558-be4a-2e4ad22aa823",
   "metadata": {},
   "outputs": [
    {
     "data": {
      "text/plain": [
       "70.04887983333333"
      ]
     },
     "execution_count": 48,
     "metadata": {},
     "output_type": "execute_result"
    }
   ],
   "source": [
    "total_mins = 0\n",
    "for t in avg_exe_time: \n",
    "    total_mins +=(t*10/60)\n",
    "total_mins\n"
   ]
  },
  {
   "cell_type": "code",
   "execution_count": 32,
   "id": "244014ac-051a-4743-b8a5-b066105ada32",
   "metadata": {},
   "outputs": [
    {
     "data": {
      "text/plain": [
       "[0.540412595864493,\n",
       " 0.9683918580905145,\n",
       " 1.080104352268335,\n",
       " 0.5921865963537161,\n",
       " 0.7351949516699625,\n",
       " 0.2333550677315577,\n",
       " 1.2517146941396033]"
      ]
     },
     "execution_count": 32,
     "metadata": {},
     "output_type": "execute_result"
    }
   ],
   "source": [
    "std_exe_time"
   ]
  },
  {
   "cell_type": "code",
   "execution_count": 51,
   "id": "bcddcd90-1f49-4e5c-8a16-efcf8ad43853",
   "metadata": {},
   "outputs": [
    {
     "name": "stdout",
     "output_type": "stream",
     "text": [
      "finish one loop for num devices: 1\n",
      "finish one loop for num devices: 2\n",
      "finish one loop for num devices: 3\n",
      "finish one loop for num devices: 4\n",
      "finish one loop for num devices: 5\n",
      "finish one loop for num devices: 6\n",
      "finish one loop for num devices: 7\n"
     ]
    }
   ],
   "source": [
    "### deploying jobs from CSV file. \n",
    "\n",
    "from QCloud import *\n",
    "from collections import defaultdict\n",
    "\n",
    "# Create quantum devices\n",
    "ibm_kyiv = IBM_Kyiv(env=None, name=\"1\", printlog = False)\n",
    "ibm_kyiv_2 = IBM_Kyiv(env=None, name=\"2\", printlog = False)\n",
    "ibm_kyiv_3 = IBM_Kyiv(env=None, name=\"3\", printlog = False)\n",
    "ibm_kyiv_4 = IBM_Kyiv(env=None, name=\"4\", printlog = False)\n",
    "ibm_kyiv_5 = IBM_Kyiv(env=None, name=\"5\", printlog = False)\n",
    "ibm_kyiv_6 = IBM_Kyiv(env=None, name=\"6\", printlog = False)\n",
    "ibm_kyiv_7 = IBM_Kyiv(env=None, name=\"7\", printlog = False)\n",
    "\n",
    "devices = [ibm_kyiv, ibm_kyiv_2, ibm_kyiv_3, ibm_kyiv_4, ibm_kyiv_5, ibm_kyiv_6, ibm_kyiv_7]\n",
    "# devices = [ibm_kyiv, ibm_kyiv_2]\n",
    "# Initialize and run the simulation using jobs from a CSV file\n",
    "\n",
    "sim_hours = defaultdict(list)\n",
    "exe_time = defaultdict(list)\n",
    "\n",
    "for num_device in range(1,8): \n",
    "    for _ in range(10): \n",
    "        start_time = time.time()        \n",
    "        qcloudsimenv = QCloudSimEnv(\n",
    "            devices=devices[0:num_device],\n",
    "            broker_class=ParallelBroker,\n",
    "            job_feed_method=\"dispatcher\",\n",
    "            # file_path=\"jobs_data.csv\"\n",
    "            file_path=\"jobs_data.csv\"\n",
    "        )\n",
    "        qcloudsimenv.run()\n",
    "        \n",
    "        end_time = time.time() # End the timer\n",
    "        elapsed_time = end_time - start_time # Calculate elapsed time\n",
    "        # print(qcloudsimenv.now)\n",
    "        sim_hours[num_device].append(qcloudsimenv.now)        \n",
    "        # print(f\"Elapsed time: {elapsed_time:.5f} seconds\")\n",
    "        exe_time[num_device].append(round(elapsed_time,5))\n",
    "    print(f\"finish one loop for num devices: {num_device}\")    \n",
    "# Access job records after the simulation\n",
    "# job_records = qcloudsimenv.job_records_manager.get_job_records()\n",
    "# for job_id, events in job_records.items():\n",
    "#     print(f\"Job ID: {job_id}, Events: {events}\")"
   ]
  },
  {
   "cell_type": "code",
   "execution_count": 53,
   "id": "83cb669f-5b09-48f8-b642-318d951e6e0f",
   "metadata": {},
   "outputs": [],
   "source": [
    "import numpy as np\n",
    "\n",
    "avg_sim_hours = []\n",
    "std_sim_hours = []\n",
    "avg_exe_time = []\n",
    "std_exe_time = []\n",
    "\n",
    "for i in range(1, 8):\n",
    "    # Compute the average (mean)\n",
    "    avg_sim_hours.append(round(np.mean(sim_hours[i])/60, 4))\n",
    "    avg_exe_time.append(np.mean(exe_time[i]))\n",
    "    # Compute the standard deviation\n",
    "    std_sim_hours.append(round(np.std(sim_hours[i])/60, 4))\n",
    "    std_exe_time.append(np.std(exe_time[i]))"
   ]
  },
  {
   "cell_type": "code",
   "execution_count": 54,
   "id": "3478faac-6c1c-44e9-8552-0103fa469c82",
   "metadata": {},
   "outputs": [
    {
     "data": {
      "text/plain": [
       "[21270.0243, 10716.3246, 7146.7911, 5371.8637, 4311.4306, 3610.3022, 3083.8314]"
      ]
     },
     "execution_count": 54,
     "metadata": {},
     "output_type": "execute_result"
    }
   ],
   "source": [
    "avg_sim_hours"
   ]
  },
  {
   "cell_type": "code",
   "execution_count": 55,
   "id": "ec72791c-c6e7-4e9a-9954-60ca89c0684d",
   "metadata": {},
   "outputs": [
    {
     "data": {
      "text/plain": [
       "[9.9768, 56.3468, 30.2767, 30.0919, 25.761, 23.224, 17.3866]"
      ]
     },
     "execution_count": 55,
     "metadata": {},
     "output_type": "execute_result"
    }
   ],
   "source": [
    "std_sim_hours"
   ]
  },
  {
   "cell_type": "code",
   "execution_count": 56,
   "id": "2e547ec2-89c7-47db-9137-0cf59c7c43f6",
   "metadata": {},
   "outputs": [
    {
     "data": {
      "text/plain": [
       "[317.25024199999996,\n",
       " 319.67616,\n",
       " 317.662562,\n",
       " 317.32372499999997,\n",
       " 320.505703,\n",
       " 318.48746199999994,\n",
       " 318.926261]"
      ]
     },
     "execution_count": 56,
     "metadata": {},
     "output_type": "execute_result"
    }
   ],
   "source": [
    "avg_exe_time"
   ]
  },
  {
   "cell_type": "code",
   "execution_count": 57,
   "id": "2cbb8179-1ec9-4b3d-8074-40692aecb5e1",
   "metadata": {},
   "outputs": [
    {
     "data": {
      "text/plain": [
       "[1.9866927131682883,\n",
       " 2.5069330623093977,\n",
       " 3.070376458481282,\n",
       " 2.3579600604092144,\n",
       " 4.398458905139509,\n",
       " 2.3814306004702392,\n",
       " 3.6267462706052447]"
      ]
     },
     "execution_count": 57,
     "metadata": {},
     "output_type": "execute_result"
    }
   ],
   "source": [
    "std_exe_time"
   ]
  }
 ],
 "metadata": {
  "kernelspec": {
   "display_name": "Python 3 (ipykernel)",
   "language": "python",
   "name": "python3"
  },
  "language_info": {
   "codemirror_mode": {
    "name": "ipython",
    "version": 3
   },
   "file_extension": ".py",
   "mimetype": "text/x-python",
   "name": "python",
   "nbconvert_exporter": "python",
   "pygments_lexer": "ipython3",
   "version": "3.10.9"
  }
 },
 "nbformat": 4,
 "nbformat_minor": 5
}
